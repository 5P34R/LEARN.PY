{
  "nbformat": 4,
  "nbformat_minor": 0,
  "metadata": {
    "colab": {
      "name": "TASK 11.ipynb",
      "provenance": []
    },
    "kernelspec": {
      "name": "python3",
      "display_name": "Python 3"
    },
    "language_info": {
      "name": "python"
    }
  },
  "cells": [
    {
      "cell_type": "markdown",
      "metadata": {
        "id": "Ud2gZIbu6E59"
      },
      "source": [
        "N.B: Please find the answers by applying the functions on the matrices"
      ]
    },
    {
      "cell_type": "markdown",
      "metadata": {
        "id": "_9JX1Vdn4sTN"
      },
      "source": [
        "1. Create 2 3×3 matrix with 0-8 and 10-19 as elements in each and perform the vectorize multiplication operations on the matrices.(Outer product, Dot product, Element wise product)."
      ]
    },
    {
      "cell_type": "code",
      "metadata": {
        "id": "aBzAn6Z75VQ6"
      },
      "source": [
        "import numpy as np\n",
        "\n",
        "a1 = np.arange(0,9).reshape(3,3)\n",
        "a2  = np.arange(10,19).reshape(3,3)\n",
        "\n",
        "out = np.outer(a1,a2)\n",
        "print(\"Outer product: \\n\",out)\n",
        "\n",
        "print(\"----------------------\")\n",
        "\n",
        "dot = np.dot(a1,a2)\n",
        "print(\"Dot product: \\n\",dot)\n",
        "\n",
        "print(\"----------------------\")\n",
        "\n",
        "mul = np.multiply(a1,a2)\n",
        "print(\"Element wise product: \\n\",mul)\n"
      ],
      "execution_count": null,
      "outputs": []
    },
    {
      "cell_type": "markdown",
      "metadata": {
        "id": "gJGtIjx25k92"
      },
      "source": [
        "2. Create a 4×4 matrix with 0-16  as elements in it. Add a scalar 4 to the matrix and also multiply it with [1,2,3,4] 1-D matrix by broadcasting. ( Please note to do both the addition and multiplication by broadcasting.)"
      ]
    },
    {
      "cell_type": "code",
      "metadata": {
        "id": "H7cznh8M56r-",
        "outputId": "f5032ed6-200f-49dc-9f00-ba7b2b378f50",
        "colab": {
          "base_uri": "https://localhost:8080/"
        }
      },
      "source": [
        "import numpy as np\n",
        "\n",
        "a1 = np.arange(0,16).reshape(4,4)\n",
        "a2 = np.array([1,2,3,4])\n",
        "ad = a1+4\n",
        "print(ad)\n",
        "\n",
        "m = ad*a2\n",
        "print(m)\n"
      ],
      "execution_count": 3,
      "outputs": [
        {
          "output_type": "stream",
          "text": [
            "[[ 4  5  6  7]\n",
            " [ 8  9 10 11]\n",
            " [12 13 14 15]\n",
            " [16 17 18 19]]\n",
            "[[ 4 10 18 28]\n",
            " [ 8 18 30 44]\n",
            " [12 26 42 60]\n",
            " [16 34 54 76]]\n"
          ],
          "name": "stdout"
        }
      ]
    }
  ]
}