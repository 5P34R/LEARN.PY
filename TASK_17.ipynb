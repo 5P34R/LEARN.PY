{
  "nbformat": 4,
  "nbformat_minor": 0,
  "metadata": {
    "colab": {
      "name": "TASK 17.ipynb",
      "provenance": []
    },
    "kernelspec": {
      "name": "python3",
      "display_name": "Python 3"
    },
    "language_info": {
      "name": "python"
    }
  },
  "cells": [
    {
      "cell_type": "markdown",
      "metadata": {
        "id": "0SLapvpoaeYY"
      },
      "source": [
        "1. Create a DataFrame by passing a random numpy array,with a datetie index and labelled columns.and display its,\n",
        "     - Head\n",
        "     - Tail\n",
        "     - Index \n",
        "     - Columns\n",
        "     - Values\n",
        "     - statistics\n"
      ]
    },
    {
      "cell_type": "code",
      "metadata": {
        "id": "zJDkjyVxa5yU",
        "outputId": "ddedb906-0c03-406f-cae7-597cdc1fcb67",
        "colab": {
          "base_uri": "https://localhost:8080/"
        }
      },
      "source": [
        "#please type your answer below this line.\n",
        "import numpy as np\n",
        "import pandas as pd\n",
        "\n",
        "date = pd.date_range('20210101', periods=6)\n",
        "\n",
        "df = pd.DataFrame(\n",
        "    np.random.randn(6,4),\n",
        "    index=date,\n",
        "    columns=list('ABCD')\n",
        ")\n",
        "print(f\"head : {df.head()}\\n\")\n",
        "\n",
        "print(f\"tail : {df.tail()}\\n\")\n",
        "\n",
        "print(f\"index: {[i for i in df.head().index]}\\n\")\n",
        "\n",
        "print(f\"Column: {[i for i in df.columns]}\\n\")\n",
        "\n",
        "print(f\"values: {df.values}\\n\")\n",
        "\n",
        "print(f\"statics:\\n {df.describe(include='all')}\")"
      ],
      "execution_count": 16,
      "outputs": [
        {
          "output_type": "stream",
          "name": "stdout",
          "text": [
            "head :                    A         B         C         D\n",
            "2021-01-01  0.874592 -0.787918 -0.301496  1.832670\n",
            "2021-01-02 -1.382979 -0.054058  0.936795 -1.932457\n",
            "2021-01-03 -0.022807 -0.206892  0.265020  0.233266\n",
            "2021-01-04 -0.101257 -0.140024 -1.011818  1.820180\n",
            "2021-01-05  0.845056 -0.897498 -0.613935 -0.958032\n",
            "\n",
            "tail :                    A         B         C         D\n",
            "2021-01-02 -1.382979 -0.054058  0.936795 -1.932457\n",
            "2021-01-03 -0.022807 -0.206892  0.265020  0.233266\n",
            "2021-01-04 -0.101257 -0.140024 -1.011818  1.820180\n",
            "2021-01-05  0.845056 -0.897498 -0.613935 -0.958032\n",
            "2021-01-06  0.458853  0.956867  0.027640  0.513782\n",
            "\n",
            "index: [Timestamp('2021-01-01 00:00:00', freq='D'), Timestamp('2021-01-02 00:00:00', freq='D'), Timestamp('2021-01-03 00:00:00', freq='D'), Timestamp('2021-01-04 00:00:00', freq='D'), Timestamp('2021-01-05 00:00:00', freq='D')]\n",
            "\n",
            "Column: ['A', 'B', 'C', 'D']\n",
            "\n",
            "values: [[ 0.87459229 -0.78791785 -0.3014963   1.83267037]\n",
            " [-1.38297883 -0.05405798  0.93679525 -1.9324574 ]\n",
            " [-0.02280748 -0.20689236  0.26502015  0.23326649]\n",
            " [-0.101257   -0.14002392 -1.01181768  1.82017977]\n",
            " [ 0.84505618 -0.897498   -0.61393497 -0.95803219]\n",
            " [ 0.45885319  0.95686686  0.02764041  0.51378247]]\n",
            "\n",
            "statics:\n",
            "               A         B         C         D\n",
            "count  6.000000  6.000000  6.000000  6.000000\n",
            "mean   0.111910 -0.188254 -0.116299  0.251568\n",
            "std    0.841170  0.662512  0.686880  1.500841\n",
            "min   -1.382979 -0.897498 -1.011818 -1.932457\n",
            "25%   -0.081645 -0.642661 -0.535825 -0.660208\n",
            "50%    0.218023 -0.173458 -0.136928  0.373524\n",
            "75%    0.748505 -0.075549  0.205675  1.493580\n",
            "max    0.874592  0.956867  0.936795  1.832670\n"
          ]
        }
      ]
    },
    {
      "cell_type": "markdown",
      "metadata": {
        "id": "xnkA2mKDdyoO"
      },
      "source": [
        "2. Use the above table and,\n",
        "      - find transpose of your data.\n",
        "      - sort the index in the descending order of the date."
      ]
    },
    {
      "cell_type": "code",
      "metadata": {
        "id": "uqcQSEOufJ5P",
        "outputId": "2c1c8fb7-7172-4016-c64f-14a474ef3061",
        "colab": {
          "base_uri": "https://localhost:8080/"
        }
      },
      "source": [
        "import numpy as np\n",
        "import pandas as pd\n",
        "\n",
        "date = pd.date_range('20210101', periods=6)\n",
        "\n",
        "df = pd.DataFrame(\n",
        "    np.random.randn(6,4),\n",
        "    index=date,\n",
        "    columns=list('ABCD')\n",
        ")\n",
        "print(f\"transpose: \\n{df.transpose}\")\n",
        "print(f\"descending: {df.sort_index(ascending=False)}\")"
      ],
      "execution_count": 29,
      "outputs": [
        {
          "output_type": "stream",
          "name": "stdout",
          "text": [
            "transpose: \n",
            "<bound method DataFrame.transpose of                    A         B         C         D\n",
            "2021-01-01  2.316621  0.011688 -1.788858 -0.188254\n",
            "2021-01-02 -0.422928  0.254536 -2.986349  0.522458\n",
            "2021-01-03  1.555157 -0.571571 -1.118100 -0.222304\n",
            "2021-01-04  1.531181  0.193053  1.185965 -1.932533\n",
            "2021-01-05 -1.200788 -1.240581 -0.283544  0.620291\n",
            "2021-01-06  0.164055  1.319289 -0.273003 -0.688610>\n",
            "descending:                    A         B         C         D\n",
            "2021-01-06  0.164055  1.319289 -0.273003 -0.688610\n",
            "2021-01-05 -1.200788 -1.240581 -0.283544  0.620291\n",
            "2021-01-04  1.531181  0.193053  1.185965 -1.932533\n",
            "2021-01-03  1.555157 -0.571571 -1.118100 -0.222304\n",
            "2021-01-02 -0.422928  0.254536 -2.986349  0.522458\n",
            "2021-01-01  2.316621  0.011688 -1.788858 -0.188254\n"
          ]
        }
      ]
    },
    {
      "cell_type": "markdown",
      "metadata": {
        "id": "ss7s_8iDbAcL"
      },
      "source": [
        ""
      ]
    }
  ]
}