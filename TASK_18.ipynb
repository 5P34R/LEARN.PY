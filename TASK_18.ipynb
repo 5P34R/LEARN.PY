{
  "nbformat": 4,
  "nbformat_minor": 0,
  "metadata": {
    "colab": {
      "name": "TASK 18.ipynb",
      "provenance": []
    },
    "kernelspec": {
      "name": "python3",
      "display_name": "Python 3"
    },
    "language_info": {
      "name": "python"
    }
  },
  "cells": [
    {
      "cell_type": "markdown",
      "metadata": {
        "id": "_JgXT8pEAjU4"
      },
      "source": [
        "1. \n",
        "Create a DataFrame by passing a random numpy array,with a datetie index and labelled columns.and,\n",
        "    - slice its first three rows and display.\n",
        "    - slice its odd indexed rows.\n",
        "    - display the dates from 1st postion to 4 th position."
      ]
    },
    {
      "cell_type": "code",
      "metadata": {
        "id": "5zFM5VOJBKBV",
        "colab": {
          "base_uri": "https://localhost:8080/"
        },
        "outputId": "f09b70ac-f18c-45df-df7a-05d63dfe90da"
      },
      "source": [
        "import numpy as np\n",
        "import pandas as pd\n",
        "\n",
        "dates = pd.date_range('20200101', periods=6)\n",
        "\n",
        "df = pd.DataFrame(np.random.randn(6, 4), index=dates, columns=list('ABCD'))\n",
        "\n",
        "\n",
        "print(f\"Slicing first three rows: \\n{df.iloc[:3]}\\n\")\n",
        "\n",
        "print(f\"odd index rows: \\n{df.iloc[::2]}\\n\")\n",
        "\n",
        "print(f\"dates from 1 to 4th position: \\n{ [df.index[i] for i in range(4)] }\")"
      ],
      "execution_count": 52,
      "outputs": [
        {
          "output_type": "stream",
          "name": "stdout",
          "text": [
            "Slicing first three rows: \n",
            "                   A         B         C         D\n",
            "2020-01-01  0.589130 -0.820846  0.680160 -0.807987\n",
            "2020-01-02 -0.963548 -0.863691 -1.540205 -0.092183\n",
            "2020-01-03  2.132637 -1.810691 -2.102712  0.231877\n",
            "\n",
            "odd index rows: \n",
            "                   A         B         C         D\n",
            "2020-01-01  0.589130 -0.820846  0.680160 -0.807987\n",
            "2020-01-03  2.132637 -1.810691 -2.102712  0.231877\n",
            "2020-01-05 -0.723973 -0.332241 -1.014991  0.053237\n",
            "\n",
            "dates from 1 to 4th position: \n",
            "[Timestamp('2020-01-01 00:00:00', freq='D'), Timestamp('2020-01-02 00:00:00', freq='D'), Timestamp('2020-01-03 00:00:00', freq='D'), Timestamp('2020-01-04 00:00:00', freq='D')]\n"
          ]
        }
      ]
    },
    {
      "cell_type": "markdown",
      "metadata": {
        "id": "QuoucvjxBPmX"
      },
      "source": [
        "2. Create a DataFrame by passing a random numpy array,with a datetie index and labelled columns.and\n",
        "  - Dislplay the index from the 1 to 3 date and the columns A and B of respective data.\n",
        "  - Display the datas at the 3rd index.\n",
        "  - Display datas from 2nd to 5th.\n",
        "  - Display the datas from the index 1,2,4 and the column 0 and 2."
      ]
    },
    {
      "cell_type": "code",
      "metadata": {
        "id": "qV_wzsp1DUKI",
        "colab": {
          "base_uri": "https://localhost:8080/"
        },
        "outputId": "ff607ddc-54eb-4f21-c9a2-15a22b108b6a"
      },
      "source": [
        "import numpy as np\n",
        "import pandas as pd\n",
        "\n",
        "dates = pd.date_range('20200101', periods=6)\n",
        "\n",
        "df = pd.DataFrame(np.random.randn(6, 4), index=dates, columns=list('ABCD'))\n",
        "dd = df.filter(items=['A','B'])\n",
        "print(f\"index from 1 to 3: \\n {dd.iloc[:3]}\")\n",
        "\n",
        "print(f\"data from thrid index: {df.iloc[[3]]}\")\n",
        "\n",
        "print(f\"data from 2 to 6 index: {df.iloc[2:5]}\")\n",
        "\n",
        "d1 = df.iloc[:2]\n",
        "d2 = df.iloc[[4]]\n",
        "\n",
        "res = pd.concat([d1,d2])\n",
        "print(f\"Data from index 1,2,4 and column 0 and 2: {res.filter(items=['A','C'])}\")"
      ],
      "execution_count": 75,
      "outputs": [
        {
          "output_type": "stream",
          "name": "stdout",
          "text": [
            "index from 1 to 3: \n",
            "                    A         B\n",
            "2020-01-01 -0.614119 -2.793117\n",
            "2020-01-02 -0.619789 -0.250830\n",
            "2020-01-03  0.158482 -1.533525\n",
            "data from thrid index:                    A         B         C         D\n",
            "2020-01-04  0.312109  0.592101 -0.198639  0.377179\n",
            "data from 2 to 6 index:                    A         B         C         D\n",
            "2020-01-03  0.158482 -1.533525 -0.180121 -1.118100\n",
            "2020-01-04  0.312109  0.592101 -0.198639  0.377179\n",
            "2020-01-05 -0.413976 -1.573118  0.293393 -0.164567\n",
            "Data from index 1,2,4:                    A         B         C         D\n",
            "2020-01-01 -0.614119 -2.793117  1.048003  0.250283\n",
            "2020-01-02 -0.619789 -0.250830  0.270566 -1.058733\n",
            "2020-01-05 -0.413976 -1.573118  0.293393 -0.164567\n",
            " column 0 and 2:                    A         C\n",
            "2020-01-01 -0.614119  1.048003\n",
            "2020-01-02 -0.619789  0.270566\n",
            "2020-01-05 -0.413976  0.293393\n"
          ]
        }
      ]
    }
  ]
}