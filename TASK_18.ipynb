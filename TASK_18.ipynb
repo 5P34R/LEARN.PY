{
  "nbformat": 4,
  "nbformat_minor": 0,
  "metadata": {
    "colab": {
      "name": "TASK 18.ipynb",
      "provenance": []
    },
    "kernelspec": {
      "name": "python3",
      "display_name": "Python 3"
    },
    "language_info": {
      "name": "python"
    }
  },
  "cells": [
    {
      "cell_type": "markdown",
      "metadata": {
        "id": "_JgXT8pEAjU4"
      },
      "source": [
        "1. \n",
        "Create a DataFrame by passing a random numpy array,with a datetie index and labelled columns.and,\n",
        "    - slice its first three rows and display.\n",
        "    - slice its odd indexed rows.\n",
        "    - display the dates from 1st postion to 4 th position."
      ]
    },
    {
      "cell_type": "code",
      "metadata": {
        "id": "5zFM5VOJBKBV",
        "outputId": "f09b70ac-f18c-45df-df7a-05d63dfe90da",
        "colab": {
          "base_uri": "https://localhost:8080/"
        }
      },
      "source": [
        "import numpy as np\n",
        "import pandas as pd\n",
        "\n",
        "dates = pd.date_range('20200101', periods=6)\n",
        "\n",
        "df = pd.DataFrame(np.random.randn(6, 4), index=dates, columns=list('ABCD'))\n",
        "\n",
        "\n",
        "print(f\"Slicing first three rows: \\n{df.iloc[:3]}\\n\")\n",
        "\n",
        "print(f\"odd index rows: \\n{df.iloc[::2]}\\n\")\n",
        "\n",
        "print(f\"dates from 1 to 4th position: \\n{ [df.index[i] for i in range(4)] }\")"
      ],
      "execution_count": 52,
      "outputs": [
        {
          "output_type": "stream",
          "name": "stdout",
          "text": [
            "Slicing first three rows: \n",
            "                   A         B         C         D\n",
            "2020-01-01  0.589130 -0.820846  0.680160 -0.807987\n",
            "2020-01-02 -0.963548 -0.863691 -1.540205 -0.092183\n",
            "2020-01-03  2.132637 -1.810691 -2.102712  0.231877\n",
            "\n",
            "odd index rows: \n",
            "                   A         B         C         D\n",
            "2020-01-01  0.589130 -0.820846  0.680160 -0.807987\n",
            "2020-01-03  2.132637 -1.810691 -2.102712  0.231877\n",
            "2020-01-05 -0.723973 -0.332241 -1.014991  0.053237\n",
            "\n",
            "dates from 1 to 4th position: \n",
            "[Timestamp('2020-01-01 00:00:00', freq='D'), Timestamp('2020-01-02 00:00:00', freq='D'), Timestamp('2020-01-03 00:00:00', freq='D'), Timestamp('2020-01-04 00:00:00', freq='D')]\n"
          ]
        }
      ]
    },
    {
      "cell_type": "markdown",
      "metadata": {
        "id": "QuoucvjxBPmX"
      },
      "source": [
        "2. Create a DataFrame by passing a random numpy array,with a datetie index and labelled columns.and\n",
        "  - Dislplay the index from the 1 to 3 date and the columns A and B of respective data.\n",
        "  - Display the datas at the 3rd index.\n",
        "  - Display datas from 2nd to 5th.\n",
        "  - Display the datas from the index 1,2,4 and the column 0 and 2."
      ]
    },
    {
      "cell_type": "code",
      "metadata": {
        "id": "qV_wzsp1DUKI",
        "outputId": "c5e2161d-6086-4969-9fd2-aaf66eaf249b",
        "colab": {
          "base_uri": "https://localhost:8080/"
        }
      },
      "source": [
        "import numpy as np\n",
        "import pandas as pd\n",
        "\n",
        "dates = pd.date_range('20200101', periods=6)\n",
        "\n",
        "df = pd.DataFrame(np.random.randn(6, 4), index=dates, columns=list('ABCD'))\n",
        "dd = df.filter(items=['A','B'])\n",
        "print(f\"index from 1 to 3: \\n {dd.iloc[:3]}\")"
      ],
      "execution_count": 61,
      "outputs": [
        {
          "output_type": "stream",
          "name": "stdout",
          "text": [
            "index from 1 to 3: \n",
            "                    A         B\n",
            "2020-01-01  0.286068 -0.644230\n",
            "2020-01-02 -1.585471 -0.657620\n",
            "2020-01-03  0.961575 -0.477148\n"
          ]
        }
      ]
    }
  ]
}