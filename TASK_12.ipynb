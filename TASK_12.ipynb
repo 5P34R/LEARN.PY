{
  "nbformat": 4,
  "nbformat_minor": 0,
  "metadata": {
    "colab": {
      "name": "TASK 12.ipynb",
      "provenance": []
    },
    "kernelspec": {
      "name": "python3",
      "display_name": "Python 3"
    },
    "language_info": {
      "name": "python"
    }
  },
  "cells": [
    {
      "cell_type": "markdown",
      "metadata": {
        "id": "i9LeFsII-SAQ"
      },
      "source": [
        "1. Create an 4x4 array with elements ranging from 0-15. And find the trace of the array."
      ]
    },
    {
      "cell_type": "code",
      "metadata": {
        "id": "eT1ymGjZ-pOZ",
        "outputId": "dabe9b64-362a-4058-ddcf-cd50ec19ec17",
        "colab": {
          "base_uri": "https://localhost:8080/"
        }
      },
      "source": [
        "import numpy as np\n",
        "\n",
        "a1 = np.arange(0,16).reshape(4,4)\n",
        "trace = a1.trace()\n",
        "print(trace)"
      ],
      "execution_count": 2,
      "outputs": [
        {
          "output_type": "stream",
          "text": [
            "30\n"
          ],
          "name": "stdout"
        }
      ]
    },
    {
      "cell_type": "markdown",
      "metadata": {
        "id": "Hw69FYds-zww"
      },
      "source": [
        "2. Create a matrix with elements [6,1,1],[4,-2,5],[2,8,7].Now find the inverse this matrix."
      ]
    },
    {
      "cell_type": "code",
      "metadata": {
        "id": "IAhA-qIwAoxs",
        "outputId": "4f70b6c8-f582-4456-84a3-d606bda43c85",
        "colab": {
          "base_uri": "https://localhost:8080/"
        }
      },
      "source": [
        "import numpy as np\n",
        "\n",
        "a1 = np.matrix('[6,1,1;4,-2,5;2,6,7]')\n",
        "print(np.linalg.inv(a1))"
      ],
      "execution_count": 4,
      "outputs": [
        {
          "output_type": "stream",
          "text": [
            "[[ 0.17322835  0.00393701 -0.02755906]\n",
            " [ 0.07086614 -0.15748031  0.1023622 ]\n",
            " [-0.11023622  0.13385827  0.06299213]]\n"
          ],
          "name": "stdout"
        }
      ]
    },
    {
      "cell_type": "markdown",
      "metadata": {
        "id": "6B6aJDFKAz0B"
      },
      "source": [
        "3. Create an 3x3 array with elements ranging from 0-8. And find the norm this array."
      ]
    },
    {
      "cell_type": "code",
      "metadata": {
        "id": "49RVb-g3CXSk",
        "outputId": "4e52ca13-f7d4-429f-91e2-6cbcbf677eff",
        "colab": {
          "base_uri": "https://localhost:8080/"
        }
      },
      "source": [
        "import numpy as np\n",
        "\n",
        "a1 = np.arange(0,9).reshape(3,3)\n",
        "print(np.linalg.norm(a1))"
      ],
      "execution_count": 5,
      "outputs": [
        {
          "output_type": "stream",
          "text": [
            "14.2828568570857\n"
          ],
          "name": "stdout"
        }
      ]
    },
    {
      "cell_type": "markdown",
      "metadata": {
        "id": "pGKEu4lxDCJK"
      },
      "source": [
        "4. Create a 4x4 array whose value ranging from 0-15.And find the eigenvalues and eigenvectors of this array."
      ]
    },
    {
      "cell_type": "code",
      "metadata": {
        "id": "dyymkid0DTth",
        "outputId": "7d2b3743-9266-45ad-d8fc-72082e854ed5",
        "colab": {
          "base_uri": "https://localhost:8080/"
        }
      },
      "source": [
        "import numpy as np\n",
        "\n",
        "a1 = np.arange(0,16).reshape(4,4)\n",
        "print(np.linalg.eig(a1))"
      ],
      "execution_count": 7,
      "outputs": [
        {
          "output_type": "stream",
          "text": [
            "(array([ 3.24642492e+01, -2.46424920e+00,  2.55670932e-15, -1.93389056e-16]), array([[-0.11417645,  0.7327781 , -0.54471271,  0.09683789],\n",
            "       [-0.3300046 ,  0.28974835,  0.76902356,  0.27269982],\n",
            "       [-0.54583275, -0.15328139,  0.09609099, -0.8359133 ],\n",
            "       [-0.76166089, -0.59631113, -0.32040185,  0.46637559]]))\n"
          ],
          "name": "stdout"
        }
      ]
    }
  ]
}