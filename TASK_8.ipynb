{
  "nbformat": 4,
  "nbformat_minor": 0,
  "metadata": {
    "colab": {
      "name": "TASK 8.ipynb",
      "provenance": []
    },
    "kernelspec": {
      "name": "python3",
      "display_name": "Python 3"
    },
    "language_info": {
      "name": "python"
    }
  },
  "cells": [
    {
      "cell_type": "markdown",
      "metadata": {
        "id": "slsGswYbJSo7"
      },
      "source": [
        "1. Generate a 3 x 3 matrix using random module."
      ]
    },
    {
      "cell_type": "code",
      "metadata": {
        "id": "GGRQSYyNJW9t",
        "outputId": "91776059-0375-4627-c5d5-450c9f6ee837",
        "colab": {
          "base_uri": "https://localhost:8080/"
        }
      },
      "source": [
        "import random\n",
        "\n",
        "a = []\n",
        "b = [0,0,0]\n",
        "\n",
        "for i in range(0, 3):\n",
        "  for i in range(0,3):\n",
        "    b[i] = random.randint(0,9)\n",
        "  a.append(b)\n",
        "print(a)"
      ],
      "execution_count": 17,
      "outputs": [
        {
          "output_type": "stream",
          "text": [
            "[[7, 0, 1], [7, 0, 1], [7, 0, 1]]\n"
          ],
          "name": "stdout"
        }
      ]
    },
    {
      "cell_type": "markdown",
      "metadata": {
        "id": "4OB9KFX6JfYA"
      },
      "source": [
        "2. Generate two 4 x 4 matrix using numpy and \n",
        "\n",
        " a) Reshape it to 2 x 8matrix and vertically stack it.\n",
        "\n",
        " b) Reshape it to 2 x 8 matrix and horizontally stack it."
      ]
    },
    {
      "cell_type": "code",
      "metadata": {
        "id": "VoIqYeNWJ4H_",
        "outputId": "5581937a-7031-424a-e61c-e601ea007c44",
        "colab": {
          "base_uri": "https://localhost:8080/"
        }
      },
      "source": [
        "import numpy as np\n",
        "\n",
        "a = np.random.rand(4,4)\n",
        "print(a)\n",
        "\n",
        "print(\"Vertical stack\")\n",
        "print(np.vstack(a))\n",
        "\n",
        "print(\"Horizontal stack\")\n",
        "print(np.hstack(a))"
      ],
      "execution_count": 27,
      "outputs": [
        {
          "output_type": "stream",
          "text": [
            "[[0.95017229 0.72565429 0.05655204 0.41856662]\n",
            " [0.7415376  0.0563009  0.62279992 0.54066161]\n",
            " [0.117698   0.30888615 0.32040797 0.72340821]\n",
            " [0.87270579 0.3658066  0.56304773 0.1363237 ]]\n",
            "Vertical stack\n",
            "[[0.95017229 0.72565429 0.05655204 0.41856662]\n",
            " [0.7415376  0.0563009  0.62279992 0.54066161]\n",
            " [0.117698   0.30888615 0.32040797 0.72340821]\n",
            " [0.87270579 0.3658066  0.56304773 0.1363237 ]]\n",
            "Horizontal stack\n",
            "[0.95017229 0.72565429 0.05655204 0.41856662 0.7415376  0.0563009\n",
            " 0.62279992 0.54066161 0.117698   0.30888615 0.32040797 0.72340821\n",
            " 0.87270579 0.3658066  0.56304773 0.1363237 ]\n"
          ],
          "name": "stdout"
        }
      ]
    }
  ]
}