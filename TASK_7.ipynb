{
  "nbformat": 4,
  "nbformat_minor": 0,
  "metadata": {
    "colab": {
      "name": "TASK  7.ipynb",
      "provenance": []
    },
    "kernelspec": {
      "name": "python3",
      "display_name": "Python 3"
    },
    "language_info": {
      "name": "python"
    }
  },
  "cells": [
    {
      "cell_type": "markdown",
      "metadata": {
        "id": "b0V3vwzcydKy"
      },
      "source": [
        "1. Write a program to check whether a  string is palindrome or not using functions. \n",
        "\n",
        "   ( A function is to be created to check whether the string is palindrome and it should give the output true or false to the main program)"
      ]
    },
    {
      "cell_type": "code",
      "metadata": {
        "id": "M2Mi7EOdyxiu",
        "outputId": "f7acc7d4-2e0d-4b41-b523-8afd8c31fffb",
        "colab": {
          "base_uri": "https://localhost:8080/"
        }
      },
      "source": [
        "def palindrome(word) -> str:\n",
        "  return (word==word[::-1])\n",
        "\n",
        "print(palindrome('malayalam'))"
      ],
      "execution_count": 4,
      "outputs": [
        {
          "output_type": "stream",
          "text": [
            "True\n"
          ],
          "name": "stdout"
        }
      ]
    },
    {
      "cell_type": "markdown",
      "metadata": {
        "id": "vSiShTyOzEz-"
      },
      "source": [
        "2.  Write a menu driven program to find largest element in L, smallest element, avg of all values, sum of all values in L. All these operation should be performed in different functions and the result should be returned.\n",
        "\n",
        "\n",
        "      L=[23,24,11,90,1,41,9,99,28,56,72]"
      ]
    },
    {
      "cell_type": "code",
      "metadata": {
        "id": "fRtMIw_CzsmO",
        "outputId": "b3dbf8ea-0e61-42d7-b1bf-4da6a46a87c9",
        "colab": {
          "base_uri": "https://localhost:8080/"
        }
      },
      "source": [
        "l=[23,24,11,90,1,41,9,99,28,56,72]\n",
        "\n",
        "# Largest Element in a list\n",
        "def largestElement(l) -> int:\n",
        "  val = l[0]\n",
        "  for i in range(0, len(l)):\n",
        "    if val <= l[i]:\n",
        "      val =l[i]\n",
        "  return val\n",
        "print(largestElement(l))\n",
        "\n",
        "# Smallest Element in a list\n",
        "def smallestElement(l) -> int:\n",
        "  val = l[0]\n",
        "  for i in range(0, len(l)):\n",
        "    if val >= l[i]:\n",
        "      val = l[i]\n",
        "  return val\n",
        "\n",
        "print(smallestElement(l))\n",
        "\n",
        "# Average of list\n",
        "def average(l) -> float:\n",
        "  sum = 0\n",
        "  n = len(l)\n",
        "  for i in l:\n",
        "    sum += int(i)\n",
        "  return (sum/n)\n",
        "print(average(l))\n",
        "\n",
        "# Sum of values in list\n",
        "def summation(l):\n",
        "  sum= 0\n",
        "  for i in l:\n",
        "    sum += int(i)\n",
        "  return sum\n",
        "print(summation(l))"
      ],
      "execution_count": 24,
      "outputs": [
        {
          "output_type": "stream",
          "text": [
            "99\n",
            "1\n",
            "41.27272727272727\n",
            "454\n"
          ],
          "name": "stdout"
        }
      ]
    }
  ]
}