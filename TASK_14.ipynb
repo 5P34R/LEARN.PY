{
  "nbformat": 4,
  "nbformat_minor": 0,
  "metadata": {
    "colab": {
      "name": "TASK 14.ipynb",
      "provenance": []
    },
    "kernelspec": {
      "name": "python3",
      "display_name": "Python 3"
    },
    "language_info": {
      "name": "python"
    }
  },
  "cells": [
    {
      "cell_type": "markdown",
      "metadata": {
        "id": "pDx7KyZoXYNb"
      },
      "source": [
        "1. Create two arrays, one containing elements [1,2], [3,4] and another containing elements [8,18] Now find the solution for this linear equation."
      ]
    },
    {
      "cell_type": "code",
      "metadata": {
        "id": "1HQu2yB2YMbj",
        "outputId": "65cc2f77-8ca6-41ba-d71b-69442d1ff9fa",
        "colab": {
          "base_uri": "https://localhost:8080/"
        }
      },
      "source": [
        "#please type your answer below this line.\n",
        "import numpy as np\n",
        "\n",
        "arr1 = np.array([[1,2], [3,4]])\n",
        "arr2 = np.array([8,18])\n",
        "print(f\"solution: {np.linalg.solve(arr1,arr2)}\")"
      ],
      "execution_count": 1,
      "outputs": [
        {
          "output_type": "stream",
          "name": "stdout",
          "text": [
            "solution: [2. 3.]\n"
          ]
        }
      ]
    },
    {
      "cell_type": "markdown",
      "metadata": {
        "id": "RyDr51p8ZxQp"
      },
      "source": [
        "2. Create an array containing elements [2, 3, 4]. Now find the sin,cos,tan values of this array elements."
      ]
    },
    {
      "cell_type": "code",
      "metadata": {
        "id": "iXZByHNOaXbk",
        "outputId": "b8ca1007-0256-4768-860f-e5f7a4daa7fd",
        "colab": {
          "base_uri": "https://localhost:8080/"
        }
      },
      "source": [
        "#please type your answer below this line.\n",
        "import numpy as np\n",
        "\n",
        "arr = np.array([2,3,4])\n",
        "print(f\"sin: {np.sin(arr)}\")\n",
        "print(f\"cos: {np.cos(arr)}\")\n",
        "print(f\"tan: {np.tan(arr)}\")"
      ],
      "execution_count": 3,
      "outputs": [
        {
          "output_type": "stream",
          "name": "stdout",
          "text": [
            "sin: [ 0.90929743  0.14112001 -0.7568025 ]\n",
            "cos: [-0.41614684 -0.9899925  -0.65364362]\n",
            "tan: [-2.18503986 -0.14254654  1.15782128]\n"
          ]
        }
      ]
    },
    {
      "cell_type": "markdown",
      "metadata": {
        "id": "Itk2DMc6b60J"
      },
      "source": [
        "3. Given b=[5,6], then find,\n",
        "\n",
        "  a) 2sinb\n",
        "  b) 2cos3b\n",
        "  c) 4tan2b"
      ]
    },
    {
      "cell_type": "code",
      "metadata": {
        "id": "lgxpIaKebw5y",
        "outputId": "d6f20435-fbe7-410c-d5e8-60e3d1fab5d1",
        "colab": {
          "base_uri": "https://localhost:8080/"
        }
      },
      "source": [
        "#please type your answer below this line.\n",
        "import numpy as np\n",
        "\n",
        "b = [5,6]\n",
        "print(f\"2sinb : {2*np.sin(b)}\")\n",
        "print(f\"2cos3b : {2*np.cos(3*b)}\")\n",
        "print(f\"2cos3b : {4*np.tan(2*b)}\")"
      ],
      "execution_count": 8,
      "outputs": [
        {
          "output_type": "stream",
          "name": "stdout",
          "text": [
            "2sinb : [-1.91784855 -0.558831  ]\n",
            "2cos3b : [0.56732437 1.92034057 0.56732437 1.92034057 0.56732437 1.92034057]\n",
            "2cos3b : [-13.52206002  -1.16402477 -13.52206002  -1.16402477]\n"
          ]
        }
      ]
    }
  ]
}