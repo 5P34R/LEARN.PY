{
  "nbformat": 4,
  "nbformat_minor": 0,
  "metadata": {
    "colab": {
      "name": "TASK 13.ipynb",
      "provenance": []
    },
    "kernelspec": {
      "name": "python3",
      "display_name": "Python 3"
    },
    "language_info": {
      "name": "python"
    }
  },
  "cells": [
    {
      "cell_type": "markdown",
      "metadata": {
        "id": "RUSoRkrOqNwf"
      },
      "source": [
        "1. Create a 3x3 array values ranging from 0-8.Find the sum of the elements in this array."
      ]
    },
    {
      "cell_type": "code",
      "metadata": {
        "id": "t01ATYQpqq8u",
        "colab": {
          "base_uri": "https://localhost:8080/"
        },
        "outputId": "b37671b6-bc6d-47f4-e640-9ac1c42feb1a"
      },
      "source": [
        "import numpy as np\n",
        "\n",
        "arr = np.arange(0,9).reshape(3,3)\n",
        "print(arr)\n",
        "print(f\"sum: {np.sum(arr)}\")"
      ],
      "execution_count": 3,
      "outputs": [
        {
          "output_type": "stream",
          "name": "stdout",
          "text": [
            "[[0 1 2]\n",
            " [3 4 5]\n",
            " [6 7 8]]\n",
            "sum: 36\n"
          ]
        }
      ]
    },
    {
      "cell_type": "markdown",
      "metadata": {
        "id": "k3Y7nQF7r3IW"
      },
      "source": [
        "2. Create a 3x3 array values ranging from 0-8.Find the row sum and column sum of this array."
      ]
    },
    {
      "cell_type": "code",
      "metadata": {
        "id": "BzvIlWfvsICv",
        "colab": {
          "base_uri": "https://localhost:8080/"
        },
        "outputId": "d7ef6efb-b907-4b4a-cc97-46c195fdb7ec"
      },
      "source": [
        "import numpy as np\n",
        "\n",
        "arr = np.arange(0,9).reshape(3,3)\n",
        "\n",
        "print(f\"sum of column: {np.sum(arr, axis=0)}\")\n",
        "print(f\"sum of row: {np.sum(arr, axis=1)}\")"
      ],
      "execution_count": 16,
      "outputs": [
        {
          "output_type": "stream",
          "name": "stdout",
          "text": [
            "[[0 1 2]\n",
            " [3 4 5]\n",
            " [6 7 8]]\n",
            "sum of column: [ 9 12 15]\n",
            "sum of row: [ 3 12 21]\n"
          ]
        }
      ]
    },
    {
      "cell_type": "markdown",
      "metadata": {
        "id": "KOPMsbnrsgue"
      },
      "source": [
        "3. Create a 4x4 array values ranging from 0-15. Now,\n",
        "\n",
        "    a) Find the mininmum value in the array.\n",
        "    \n",
        "    b) Find the maximum value in the array.\n",
        "\n",
        "    c) Find the mean of the values in the array."
      ]
    },
    {
      "cell_type": "code",
      "metadata": {
        "id": "1UzITxp3WDaW",
        "colab": {
          "base_uri": "https://localhost:8080/"
        },
        "outputId": "c47868e2-1a80-4769-ef0e-e0a27f8e17cf"
      },
      "source": [
        "#please enter your code belowthis line.\n",
        "import numpy as np\n",
        "\n",
        "arr = np.arange(0,16).reshape(4,4)\n",
        "\n",
        "print(f\"mininmum value: {np.amin(arr)}\")\n",
        "print(f\"mininmum value: {np.amax(arr)}\")\n",
        "print(f\"mean value: {np.mean(arr)}\")"
      ],
      "execution_count": 9,
      "outputs": [
        {
          "output_type": "stream",
          "name": "stdout",
          "text": [
            "mininmum value: 0\n",
            "mininmum value: 15\n",
            "mean value: 7.5\n"
          ]
        }
      ]
    },
    {
      "cell_type": "markdown",
      "metadata": {
        "id": "Pah9qGButoz2"
      },
      "source": [
        "4. Create an 10x10 array values ranging from 0-99.And ,\n",
        "\n",
        "    a) Print the 7th row.\n",
        "    \n",
        "    b) Print the rows from 4-8.\n",
        "\n",
        "    c) Print the value at the index 5,5.\n",
        "\n",
        "    d) Print the 5th colomn.\n",
        "\n",
        "    e) Print the columns from 2-5."
      ]
    },
    {
      "cell_type": "code",
      "metadata": {
        "id": "JFXPq0GkvhKi",
        "colab": {
          "base_uri": "https://localhost:8080/"
        },
        "outputId": "3145fa89-800d-4fe8-9a64-179147178c13"
      },
      "source": [
        "#please enter your code below this line.\n",
        "import numpy as np\n",
        "\n",
        "arr = np.arange(0,100).reshape(10,10)\n",
        "print(arr)\n",
        "\n",
        "print(f\"7th row: {arr[6,:]}\\n\")\n",
        "print(f\"4-8 row:{arr[3:7,:]}\\n\")\n",
        "print(f\"value at the index 5,5: {arr[5][5]}\\n\")\n",
        "print(f\"5th column: {arr[:,4]}\\n\")\n",
        "print(f\"column from 2-5: {arr[:,1:4]}\")"
      ],
      "execution_count": 23,
      "outputs": [
        {
          "output_type": "stream",
          "name": "stdout",
          "text": [
            "[[ 0  1  2  3  4  5  6  7  8  9]\n",
            " [10 11 12 13 14 15 16 17 18 19]\n",
            " [20 21 22 23 24 25 26 27 28 29]\n",
            " [30 31 32 33 34 35 36 37 38 39]\n",
            " [40 41 42 43 44 45 46 47 48 49]\n",
            " [50 51 52 53 54 55 56 57 58 59]\n",
            " [60 61 62 63 64 65 66 67 68 69]\n",
            " [70 71 72 73 74 75 76 77 78 79]\n",
            " [80 81 82 83 84 85 86 87 88 89]\n",
            " [90 91 92 93 94 95 96 97 98 99]]\n",
            "7th row: [60 61 62 63 64 65 66 67 68 69]\n",
            "\n",
            "4-8 row:[[30 31 32 33 34 35 36 37 38 39]\n",
            " [40 41 42 43 44 45 46 47 48 49]\n",
            " [50 51 52 53 54 55 56 57 58 59]\n",
            " [60 61 62 63 64 65 66 67 68 69]]\n",
            "\n",
            "value at the index 5,5: 55\n",
            "\n",
            "5th column: [ 4 14 24 34 44 54 64 74 84 94]\n",
            "\n",
            "column from 2-5: [[ 1  2  3]\n",
            " [11 12 13]\n",
            " [21 22 23]\n",
            " [31 32 33]\n",
            " [41 42 43]\n",
            " [51 52 53]\n",
            " [61 62 63]\n",
            " [71 72 73]\n",
            " [81 82 83]\n",
            " [91 92 93]]\n"
          ]
        }
      ]
    }
  ]
}