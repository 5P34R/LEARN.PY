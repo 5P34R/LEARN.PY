{
  "nbformat": 4,
  "nbformat_minor": 0,
  "metadata": {
    "colab": {
      "name": "TASK 10.ipynb",
      "provenance": []
    },
    "kernelspec": {
      "name": "python3",
      "display_name": "Python 3"
    },
    "language_info": {
      "name": "python"
    }
  },
  "cells": [
    {
      "cell_type": "markdown",
      "metadata": {
        "id": "VHKxwUewxOi2"
      },
      "source": [
        "1. Generate two  3 x 3 matrix and find it's dot product and take the transpose of the answer."
      ]
    },
    {
      "cell_type": "code",
      "metadata": {
        "id": "RdyKd1CAxZtR",
        "outputId": "74743d32-61ae-4f0b-c43e-f18cf07dcc4c",
        "colab": {
          "base_uri": "https://localhost:8080/"
        }
      },
      "source": [
        "import numpy as np\n",
        "\n",
        "x = np.random.randint(100, size=(3,3))\n",
        "print(x)\n",
        "\n",
        "y = np.random.randint(100, size=(3,3))\n",
        "print(y)\n",
        "\n",
        "p = np.dot(x,y)\n",
        "print(p)"
      ],
      "execution_count": 3,
      "outputs": [
        {
          "output_type": "stream",
          "text": [
            "[[59 70 15]\n",
            " [83 81 96]\n",
            " [32 76 35]]\n",
            "[[45 22 35]\n",
            " [55 81 98]\n",
            " [89 27  4]]\n",
            "[[ 7840  7373  8985]\n",
            " [16734 10979 11227]\n",
            " [ 8735  7805  8708]]\n"
          ],
          "name": "stdout"
        }
      ]
    },
    {
      "cell_type": "markdown",
      "metadata": {
        "id": "9c9ZwiBxxf4t"
      },
      "source": [
        "2. Create a 3x3 matrix with elements [55,25,15], [30,44,2], [11,45,77] . Now find the determinant of the given matrix."
      ]
    },
    {
      "cell_type": "code",
      "metadata": {
        "id": "Anmr3C9KyNyy",
        "outputId": "fb113ad9-ce18-4d4e-f765-70cc59690299",
        "colab": {
          "base_uri": "https://localhost:8080/"
        }
      },
      "source": [
        "import numpy as np\n",
        "\n",
        "a =  [55,25,15], [30,44,2], [11,45,77]\n",
        "arr = np.array(a)\n",
        "print(arr)\n",
        "\n",
        "dot = np.linalg.det(arr)\n",
        "print(int(dot))"
      ],
      "execution_count": 8,
      "outputs": [
        {
          "output_type": "stream",
          "text": [
            "[[55 25 15]\n",
            " [30 44  2]\n",
            " [11 45 77]]\n",
            "137180\n"
          ],
          "name": "stdout"
        }
      ]
    }
  ]
}