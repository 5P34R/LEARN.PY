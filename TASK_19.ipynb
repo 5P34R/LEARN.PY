{
  "nbformat": 4,
  "nbformat_minor": 0,
  "metadata": {
    "colab": {
      "name": "TASK 19.ipynb",
      "provenance": []
    },
    "kernelspec": {
      "name": "python3",
      "display_name": "Python 3"
    },
    "language_info": {
      "name": "python"
    }
  },
  "cells": [
    {
      "cell_type": "markdown",
      "metadata": {
        "id": "6J-6GvX2JUcC"
      },
      "source": [
        "1. Create a DataFrame by passing a random numpy array,with a dateted index and labelled columns and display,\n",
        "  - where values of the column A is greater than 0.\n",
        "  - where values of the columns A is greater than 0 and B greater than -1.\n",
        "  - where values of the columns A  is greater than 0 or B greater than -1.\n"
      ]
    },
    {
      "cell_type": "code",
      "metadata": {
        "id": "xX-5VikpLcHL",
        "outputId": "58c6e8b1-aae8-41ef-e84e-8adc00b4dafd",
        "colab": {
          "base_uri": "https://localhost:8080/"
        }
      },
      "source": [
        "import numpy as np\n",
        "import pandas as pd\n",
        "\n",
        "dates = pd.date_range('20200101', periods=6)\n",
        "\n",
        "df = pd.DataFrame(np.random.randn(6, 4), index=dates, columns=list('ABCD'))\n",
        "\n",
        "print(\"Values of column A is greater than 0\")\n",
        "for i in range(len(df['A'])):\n",
        "  if df['A'][i] > 0:\n",
        "    print(df['A'][i])\n",
        "\n",
        "print(\"Values of the columns A is greater than 0 and B greater than -1.\")\n",
        "for i,j in zip(range(len(df['A'])), range(len(df['B']))):\n",
        "  if df['A'][i].all() > 0 and df['B'].all() > -1:\n",
        "    print(f\"{df['A'][i]}  {df['B'][j]}\")\n",
        "\n",
        "\n",
        "print(\"Values of the columns A is greater than 0 or B greater than -1.\")\n",
        "for i,j in zip(range(len(df['A'])), range(len(df['B']))):\n",
        "  if df['A'][i].all() > 0 or df['B'].all() > -1:\n",
        "    print(f\"{df['A'][i]}  {df['B'][j]}\")"
      ],
      "execution_count": 29,
      "outputs": [
        {
          "output_type": "stream",
          "name": "stdout",
          "text": [
            "Values of column A is greater than 0\n",
            "0.989637417575529\n",
            "0.3325323127557043\n",
            "0.4841299585950218\n",
            "0.04516530069318895\n",
            "0.4119443605527507\n",
            "Values of the columns A is greater than 0 and B greater than -1.\n",
            "0.989637417575529  -0.4571893178679946\n",
            "0.3325323127557043  -0.05206646385848621\n",
            "0.4841299585950218  -0.04220555371127631\n",
            "0.04516530069318895  -1.1760776383800122\n",
            "-0.31811989551841413  0.5369471159717638\n",
            "0.4119443605527507  0.17485319328229337\n",
            "Values of the columns A is greater than 0 or B greater than -1.\n",
            "0.989637417575529  -0.4571893178679946\n",
            "0.3325323127557043  -0.05206646385848621\n",
            "0.4841299585950218  -0.04220555371127631\n",
            "0.04516530069318895  -1.1760776383800122\n",
            "-0.31811989551841413  0.5369471159717638\n",
            "0.4119443605527507  0.17485319328229337\n"
          ]
        }
      ]
    },
    {
      "cell_type": "markdown",
      "metadata": {
        "id": "1WAf9SbwLp6o"
      },
      "source": [
        "2. Create a DataFrame by passing a random numpy array,with a dateted index and labelled columns and check if ,\n",
        "  - the values of the table are greater the zero or not.\n",
        "  - the value at the postion (0,0) is equal to NaN or not."
      ]
    },
    {
      "cell_type": "code",
      "metadata": {
        "id": "rBrt8pMeM2Q5",
        "outputId": "e875c47f-77fe-4542-ba60-ea1158e7b17b",
        "colab": {
          "base_uri": "https://localhost:8080/"
        }
      },
      "source": [
        "import numpy as np\n",
        "import pandas as pd\n",
        "\n",
        "dates = pd.date_range('20200101', periods=6)\n",
        "\n",
        "df = pd.DataFrame(np.random.randn(6, 4), index=dates, columns=list('ABCD'))\n",
        "f = 1\n",
        "for i in df.columns:\n",
        "  for j in df[i]:\n",
        "    if df[str(i)][int(j)] == 0:\n",
        "      f =0\n",
        "if f ==1:\n",
        "  print(\"Its contains values greater than 0\")\n",
        "else:\n",
        "  print(\"It has zero values\")\n",
        "\n",
        "l = df.iloc[0]\n",
        "# print(l.iloc[0])\n",
        "if l.iloc[0] == 'NaN':\n",
        "  print(\"Its NaN\")\n",
        "else:\n",
        "  print(\"Its not\")"
      ],
      "execution_count": 46,
      "outputs": [
        {
          "output_type": "stream",
          "name": "stdout",
          "text": [
            "Its contains values greater than 0\n",
            "Its not\n"
          ]
        }
      ]
    },
    {
      "cell_type": "markdown",
      "metadata": {
        "id": "IfM9XYmiNaKB"
      },
      "source": [
        "3. Create a DataFrame by passing a random numpy array,with a dateted index and labelled columns and,\n",
        "  - reindex the index with even dates.\n",
        "  - create a column with values NaN.\n",
        "  - make the values of the first two index of the newly created column as 1"
      ]
    },
    {
      "cell_type": "code",
      "metadata": {
        "id": "F-w8kEfaORg3",
        "outputId": "55bef364-cdcc-4a9c-a9fa-0d89e644f517",
        "colab": {
          "base_uri": "https://localhost:8080/"
        }
      },
      "source": [
        "import numpy as np\n",
        "import pandas as pd\n",
        "\n",
        "dates = pd.date_range('20200202', periods=6)\n",
        "\n",
        "df = pd.DataFrame(np.random.randn(6, 4), index=dates, columns=list('ABCD'))\n",
        "d1=df.reindex(index=dates[0:6:2])\n",
        "print(f\"reindex the index with even dates. {df1}\")\n",
        "\n",
        "d2 = df.reindex(columns=list(df.columns)+ ['E'])\n",
        "print(f\"create a column with values NaN {d2}\")\n",
        "\n",
        "d3 = d2.filter(items=['E'])\n",
        "d3.iloc[0] = int(1)\n",
        "d3.iloc[1] = int(1) \n",
        "print(d3)"
      ],
      "execution_count": 82,
      "outputs": [
        {
          "output_type": "stream",
          "name": "stdout",
          "text": [
            "reindex the index with even dates.                    A         B         C         D\n",
            "2020-02-02 -0.733442  1.840968  0.318912  0.488802\n",
            "2020-02-04  0.257863 -0.485006 -1.130858  0.538797\n",
            "2020-02-06  2.134236  0.491647 -1.004137  0.369415\n",
            "create a column with values NaN                    A         B         C         D   E\n",
            "2020-02-02 -0.002115 -0.165693  0.118394 -0.034602 NaN\n",
            "2020-02-03  0.529491  0.298194 -0.732628  0.595931 NaN\n",
            "2020-02-04 -1.298329 -1.029164 -0.739599 -0.500392 NaN\n",
            "2020-02-05  0.067505  1.413850  0.930837 -0.607721 NaN\n",
            "2020-02-06  1.269347 -2.115411 -0.298489  0.903023 NaN\n",
            "2020-02-07  1.492907  1.115661 -3.139201  0.947041 NaN\n",
            "              E\n",
            "2020-02-02  1.0\n",
            "2020-02-03  1.0\n",
            "2020-02-04  NaN\n",
            "2020-02-05  NaN\n",
            "2020-02-06  NaN\n",
            "2020-02-07  NaN\n"
          ]
        }
      ]
    }
  ]
}