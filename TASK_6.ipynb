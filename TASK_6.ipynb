{
  "nbformat": 4,
  "nbformat_minor": 0,
  "metadata": {
    "colab": {
      "name": "TASK 6.ipynb",
      "provenance": []
    },
    "kernelspec": {
      "name": "python3",
      "display_name": "Python 3"
    },
    "language_info": {
      "name": "python"
    },
    "accelerator": "GPU"
  },
  "cells": [
    {
      "cell_type": "markdown",
      "metadata": {
        "id": "2aT_QhgIny6V"
      },
      "source": [
        "1. Write a Python program to find those numbers which are divisible by 7 and multiple of 11, between 11000 and 2000 (both included)."
      ]
    },
    {
      "cell_type": "code",
      "metadata": {
        "id": "KlFG2BFZoEEU",
        "colab": {
          "base_uri": "https://localhost:8080/"
        },
        "outputId": "081ffd8a-4c38-409f-b127-0d331c4faf85"
      },
      "source": [
        "#please enter your answer below this line\n",
        "lst = [i  for i in range(1100,  2001) if (i%7==0 and i%11==0)]\n",
        "print(lst)"
      ],
      "execution_count": 6,
      "outputs": [
        {
          "output_type": "stream",
          "text": [
            "[1155, 1232, 1309, 1386, 1463, 1540, 1617, 1694, 1771, 1848, 1925]\n"
          ],
          "name": "stdout"
        }
      ]
    },
    {
      "cell_type": "markdown",
      "metadata": {
        "id": "ZesHXUMboLu7"
      },
      "source": [
        "2. Write a program to print this pattern\n",
        "\n",
        "           #\n",
        "          ## \n",
        "         ###"
      ]
    },
    {
      "cell_type": "code",
      "metadata": {
        "id": "64-aUjWbohqz",
        "colab": {
          "base_uri": "https://localhost:8080/"
        },
        "outputId": "128683dd-6135-495e-8f30-ff7aea10c3b4"
      },
      "source": [
        "print(\"  #\")\n",
        "print(\" ##\")\n",
        "print(\"###\")"
      ],
      "execution_count": 24,
      "outputs": [
        {
          "output_type": "stream",
          "text": [
            "  #\n",
            " ##\n",
            "###\n"
          ],
          "name": "stdout"
        }
      ]
    },
    {
      "cell_type": "markdown",
      "metadata": {
        "id": "6ZepaaI-ow6W"
      },
      "source": [
        "3. list=[apple, orange, apple, banana]\n",
        ". Replace all the apple in the list with grapes using for loop"
      ]
    },
    {
      "cell_type": "code",
      "metadata": {
        "id": "D7UOyf_6o6Ax",
        "colab": {
          "base_uri": "https://localhost:8080/"
        },
        "outputId": "2e682ef6-f928-44d8-ee46-fd6f47619a89"
      },
      "source": [
        "lst=['apple', 'orange', 'apple', 'banana']\n",
        "for i in range(len(lst)):\n",
        "  if lst[i]=='apple':\n",
        "    lst[i]='grape'\n",
        "print(lst)"
      ],
      "execution_count": 16,
      "outputs": [
        {
          "output_type": "stream",
          "text": [
            "['grape', 'orange', 'grape', 'banana']\n"
          ],
          "name": "stdout"
        }
      ]
    }
  ]
}